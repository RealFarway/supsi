{
 "cells": [
  {
   "cell_type": "markdown",
   "id": "41fa8903-13df-4a8b-9acf-e05a10e7ad9d",
   "metadata": {},
   "source": [
    "# 2: Variabili e Strutture Dati di Base\n",
    "\n",
    "In questa lezione impareremo come Python tratta le variabili e le principali strutture dati di base: stringhe, liste, tuple, set, dizionari e array (con numpy).  \n",
    "Alla fine della lezione ci saranno alcuni esercizi per mettere in pratica quanto appreso.\n",
    "\n",
    "---\n",
    "\n",
    "## 2.1 Variabili e Assegnazione\n",
    "\n",
    "Una **variabile** è un contenitore che permette di memorizzare dati.  \n",
    "In Python, non è necessario dichiarare il tipo: il tipo è determinato al momento dell'assegnazione.\n",
    "\n",
    "Esempi:"
   ]
  },
  {
   "cell_type": "code",
   "execution_count": 2,
   "id": "08256dab-bc86-4eb2-b288-98785c944334",
   "metadata": {},
   "outputs": [
    {
     "name": "stdout",
     "output_type": "stream",
     "text": [
      "<class 'int'> 10\n",
      "<class 'float'> 3.14\n",
      "<class 'bool'> True\n",
      "<class 'str'> Ciao, mondo!\n"
     ]
    }
   ],
   "source": [
    "a = 10\n",
    "b = 3.14\n",
    "c = True\n",
    "d = \"Ciao, mondo!\"\n",
    "\n",
    "print(type(a), a)\n",
    "print(type(b), b)\n",
    "print(type(c), c)\n",
    "print(type(d), d)"
   ]
  },
  {
   "cell_type": "markdown",
   "id": "4914e319",
   "metadata": {},
   "source": [
    "### Alcune regole per il naming delle variabili:\n",
    "\n",
    "- Devono iniziare con lettera o underscore _\n",
    "\n",
    "- Possono contenere lettere, cifre e underscore\n",
    "\n",
    "- Attenzione alle maiuscole/minuscole: Var ≠ var"
   ]
  },
  {
   "cell_type": "markdown",
   "id": "b2b6f492",
   "metadata": {},
   "source": [
    "## 2.2 Stringhe\n",
    "\n",
    "Le stringhe sono sequenze immutabili di caratteri, il che significa che una volta create, non possono essere modificate direttamente. Se si tenta di cambiare un carattere di una stringa esistente, si otterrà un errore, ma è possibile creare una nuova stringa che sia una versione modificata di quella originale.\n",
    "\n",
    "Per la creazione si usano  \"...\" o '...'. Si può accedere ad un elemento della lista. Si possono estrarre solo alcuni caratteri. Si possono concatenare e ripetere"
   ]
  },
  {
   "cell_type": "code",
   "execution_count": 3,
   "id": "4dc915bb",
   "metadata": {},
   "outputs": [
    {
     "name": "stdout",
     "output_type": "stream",
     "text": [
      "I\n",
      "a\n",
      "Ingegneria\n",
      "Ingegneria\n",
      "Informatica\n",
      "Ingegneria Informatica è bella!\n",
      "Ingegneria InformaticaIngegneria Informatica\n"
     ]
    }
   ],
   "source": [
    "s = \"Ingegneria Informatica\" # creazione\n",
    "print(s[0])        # primo carattere\n",
    "print(s[-1])       # ultimo carattere\n",
    "print(s[0:10])     # slice\n",
    "print(s[:10])\n",
    "print(s[11:])\n",
    "print(s + \" è bella!\")\n",
    "print(s * 2)"
   ]
  },
  {
   "cell_type": "markdown",
   "id": "1601e8d0",
   "metadata": {},
   "source": [
    "### Altri comandi utili"
   ]
  },
  {
   "cell_type": "code",
   "execution_count": 4,
   "id": "610b4a85",
   "metadata": {},
   "outputs": [
    {
     "name": "stdout",
     "output_type": "stream",
     "text": [
      "ingegneria informatica\n",
      "INGEGNERIA INFORMATICA\n",
      "Ingegneria Computazione\n",
      "['Ingegneria', 'Informatica']\n",
      "Python-è-utile\n"
     ]
    }
   ],
   "source": [
    "print(s.lower())\n",
    "print(s.upper())\n",
    "print(s.replace(\"Informatica\", \"Computazione\"))\n",
    "print(s.split())   # di default split su spazi\n",
    "print(\"-\".join([\"Python\", \"è\", \"utile\"]))"
   ]
  },
  {
   "cell_type": "markdown",
   "id": "fd83c459",
   "metadata": {},
   "source": [
    "## 2.3 Liste\n",
    "\n",
    "Le liste sono sequenze mutabili: possiamo modificare il contenuto dopo la creazione."
   ]
  },
  {
   "cell_type": "code",
   "execution_count": 6,
   "id": "4a2cc84d",
   "metadata": {},
   "outputs": [
    {
     "name": "stdout",
     "output_type": "stream",
     "text": [
      "[1, 2, 3, 4.5, 'ciao']\n",
      "1 ciao\n",
      "[2, 3, 4.5]\n"
     ]
    }
   ],
   "source": [
    "lst = [1, 2, 3, 4.5, \"ciao\"]\n",
    "print(lst)\n",
    "print(lst[0], lst[-1])\n",
    "print(lst[1:4])"
   ]
  },
  {
   "cell_type": "code",
   "execution_count": 7,
   "id": "bf8f9fc8",
   "metadata": {},
   "outputs": [
    {
     "name": "stdout",
     "output_type": "stream",
     "text": [
      "[1, 2, 3, 4.5, 'ciao', 'ultimo']\n",
      "[1, 2, 'tra 2 e 3', 3, 4.5, 'ciao', 'ultimo']\n",
      "[1, 'tra 2 e 3', 3, 4.5, 'ciao', 'ultimo']\n",
      "[1, 'tra 2 e 3', 3, 4.5, 'ciao']\n",
      "[100, 'tra 2 e 3', 3, 4.5, 'ciao']\n"
     ]
    }
   ],
   "source": [
    "### Modifiche\n",
    "lst.append(\"ultimo\")\n",
    "print(lst)\n",
    "lst.insert(2, \"tra 2 e 3\")\n",
    "print(lst)\n",
    "lst.remove(2)  # rimuove il primo elemento uguale a 2\n",
    "print(lst)\n",
    "lst.pop()      # toglie e restituisce l'ultimo elemento\n",
    "print(lst)\n",
    "lst[0] = 100\n",
    "print(lst)"
   ]
  },
  {
   "cell_type": "markdown",
   "id": "bbd562c2",
   "metadata": {},
   "source": [
    "## 2.4 Tuple\n",
    "\n",
    "Le tuple sono come le liste, ma immutabili. Per creare si usano le tonde invece delle  [   ]"
   ]
  },
  {
   "cell_type": "code",
   "execution_count": 10,
   "id": "616a4d5d",
   "metadata": {},
   "outputs": [
    {
     "name": "stdout",
     "output_type": "stream",
     "text": [
      "(1, 2, 3, 'a', 'b')\n",
      "3\n"
     ]
    }
   ],
   "source": [
    "t = (1, 2, 3, \"a\", \"b\")\n",
    "print(t)\n",
    "print(t[2])\n",
    "# t[0] = 10    # questo dà errore"
   ]
  },
  {
   "cell_type": "markdown",
   "id": "61dac04f",
   "metadata": {},
   "source": [
    "## 2.5 Set\n",
    "\n",
    "I set sono insiemi non ordinati, non permettono duplicati."
   ]
  },
  {
   "cell_type": "code",
   "execution_count": 11,
   "id": "e4f40855",
   "metadata": {},
   "outputs": [
    {
     "name": "stdout",
     "output_type": "stream",
     "text": [
      "{1, 2, 3}\n",
      "{2, 3, 4, 5}\n",
      "unione: {1, 2, 3, 4, 5}\n",
      "intersezione: {2, 3}\n",
      "differenza: {1}\n",
      "differenza simmetrica: {1, 4, 5}\n"
     ]
    }
   ],
   "source": [
    "st = {1, 2, 3, 3, 2}\n",
    "print(st)   # duplicati tolti\n",
    "\n",
    "st2 = set([2, 3, 4, 5])\n",
    "print(st2)\n",
    "\n",
    "# operazioni\n",
    "print(\"unione:\", st | st2)\n",
    "print(\"intersezione:\", st & st2)\n",
    "print(\"differenza:\", st - st2) # restituisce un nuovo set contenente gli elementi presenti nel primo set ma non nel secondo\n",
    "# restituisce un nuovo set contenente tutti gli elementi che sono presenti in uno dei due set, \n",
    "# ma non in entrambi, escludendo quindi gli elementi comuni\n",
    "print(\"differenza simmetrica:\", st ^ st2) # "
   ]
  },
  {
   "cell_type": "markdown",
   "id": "20d21efd",
   "metadata": {},
   "source": [
    "## 2.6 Dizionari\n",
    "\n",
    "I dizionari sono mappe chiave → valore. "
   ]
  },
  {
   "cell_type": "code",
   "execution_count": 13,
   "id": "5ce3e8a2",
   "metadata": {},
   "outputs": [
    {
     "name": "stdout",
     "output_type": "stream",
     "text": [
      "{'nome': 'Alice', 'età': 23, 'corso': 'Informatica'}\n",
      "Alice\n",
      "{'nome': 'Alice', 'età': 24, 'corso': 'Informatica'}\n",
      "{'nome': 'Alice', 'età': 24, 'corso': 'Informatica', 'città': 'Lugano'}\n"
     ]
    }
   ],
   "source": [
    "d = {\"nome\": \"Alice\", \"età\": 23, \"corso\": \"Informatica\"}\n",
    "print(d)\n",
    "print(d[\"nome\"])\n",
    "d[\"età\"] = 24\n",
    "print(d)\n",
    "d[\"città\"] = \"Lugano\"\n",
    "print(d)"
   ]
  },
  {
   "cell_type": "markdown",
   "id": "699bc7a9",
   "metadata": {},
   "source": [
    "### Altri comandi utili"
   ]
  },
  {
   "cell_type": "code",
   "execution_count": 14,
   "id": "358ddb4d",
   "metadata": {},
   "outputs": [
    {
     "name": "stdout",
     "output_type": "stream",
     "text": [
      "dict_keys(['nome', 'età', 'corso', 'città'])\n",
      "dict_values(['Alice', 24, 'Informatica', 'Lugano'])\n",
      "dict_items([('nome', 'Alice'), ('età', 24), ('corso', 'Informatica'), ('città', 'Lugano')])\n",
      "Età è presente\n"
     ]
    }
   ],
   "source": [
    "print(d.keys())\n",
    "print(d.values())\n",
    "print(d.items())\n",
    "\n",
    "if \"età\" in d:\n",
    "    print(\"Età è presente\")"
   ]
  },
  {
   "cell_type": "markdown",
   "id": "2fdfdd46",
   "metadata": {},
   "source": [
    "## 2.7 Array con NumPy !!!!\n",
    "\n",
    "Le liste vanno bene per piccoli usi, ma per dati numerici, calcoli vettoriali ecc. è meglio usare gli array di numpy."
   ]
  },
  {
   "cell_type": "code",
   "execution_count": 19,
   "id": "25516f99",
   "metadata": {},
   "outputs": [
    {
     "name": "stdout",
     "output_type": "stream",
     "text": [
      "[1. 2. 3. 4.]\n",
      "[2. 4. 6. 8.]\n",
      "[2. 4. 6. 8.]\n",
      "[ 1.  4.  9. 16.]\n",
      "[ 0.84147098  0.90929743  0.14112001 -0.7568025 ]\n"
     ]
    }
   ],
   "source": [
    "import numpy as np\n",
    "\n",
    "arr = np.array([1.0, 2.0, 3.0, 4.0])\n",
    "print(arr)\n",
    "print(arr * 2)\n",
    "print(arr + arr)\n",
    "print(arr ** 2)\n",
    "print(np.sin(arr))"
   ]
  },
  {
   "cell_type": "markdown",
   "id": "36c560e6",
   "metadata": {},
   "source": [
    "### Creazione di matrici"
   ]
  },
  {
   "cell_type": "code",
   "execution_count": 22,
   "id": "4832428f",
   "metadata": {},
   "outputs": [
    {
     "name": "stdout",
     "output_type": "stream",
     "text": [
      "[[1 2 3]\n",
      " [4 5 6]\n",
      " [7 8 9]]\n",
      "(3, 3)\n",
      "[1 2 3]\n",
      "[2 5 8]\n",
      "[[5 6]\n",
      " [8 9]]\n"
     ]
    }
   ],
   "source": [
    "A = np.array([[1, 2, 3],\n",
    "                [4, 5, 6],\n",
    "                [7, 8, 9]])\n",
    "print(A)\n",
    "print(A.shape)\n",
    "print(A[0, :])\n",
    "print(A[:, 1])\n",
    "print(A[1:3, 1:3])"
   ]
  },
  {
   "cell_type": "code",
   "execution_count": null,
   "id": "51e56618",
   "metadata": {},
   "outputs": [],
   "source": []
  }
 ],
 "metadata": {
  "kernelspec": {
   "display_name": "Python 3 (ipykernel)",
   "language": "python",
   "name": "python3"
  },
  "language_info": {
   "codemirror_mode": {
    "name": "ipython",
    "version": 3
   },
   "file_extension": ".py",
   "mimetype": "text/x-python",
   "name": "python",
   "nbconvert_exporter": "python",
   "pygments_lexer": "ipython3",
   "version": "3.9.7"
  }
 },
 "nbformat": 4,
 "nbformat_minor": 5
}
