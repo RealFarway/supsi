{
 "cells": [
  {
   "cell_type": "markdown",
   "id": "41fa8903-13df-4a8b-9acf-e05a10e7ad9d",
   "metadata": {},
   "source": [
    "## Introduzione: Algoritmi numerici e strumenti di calcolo, Settimana 1, Introduzione a python con Jupyter notebook"
   ]
  },
  {
   "cell_type": "markdown",
   "id": "8e089627-ef48-4fc9-81ab-69658951ebf9",
   "metadata": {
    "jp-MarkdownHeadingCollapsed": true
   },
   "source": [
    "### <span style=\"color: red\"> Python come calcolatrice di base </span>\n",
    "### <span style=\"color: blue \">Le operazioni in python sono:</span>\n",
    "\n",
    "- Operatori aritmetici:\n",
    "\n",
    "+, -, *, /, // (divisione intera), % (modulo), ** (potenza)\n",
    "\n",
    "È molto importante espliciatare le operazioni\n",
    "\n",
    "Per eseguire il comando scrivere il comando nella cella grigia e premere Shift (maiusciolo)+ Enter(invio) per eseguire.\n",
    "Se si digita # prima di un comando questo non viene eseguito, è un commento"
   ]
  },
  {
   "cell_type": "markdown",
   "id": "16eccada-6d04-446c-9c98-aa411ef8894c",
   "metadata": {},
   "source": [
    "### <span style=\"color: blue \"> Provare le operazioni: </span> \n",
    "- Calcolare la somma di 1 e 2\n",
    "- Calcolare la differenza tra 1 e 2\n",
    "- Calcolare la moltiplicazione tra 2 e 4\n",
    "- Calcolare la divisione tra 1 e 2\n",
    "- Calcolare 2 elevato 3\n",
    "- Eserguire la divisione tra gli interi 10 e 3 (10%3)"
   ]
  },
  {
   "cell_type": "code",
   "execution_count": 6,
   "id": "b590327a-94d4-4c40-990a-5edc93a6c567",
   "metadata": {},
   "outputs": [],
   "source": [
    "# Eseguire qui i calcoli\n"
   ]
  },
  {
   "cell_type": "markdown",
   "id": "7c3a00c9-5677-43d0-84cd-47d0c2a57ae6",
   "metadata": {},
   "source": [
    "### <span style=\"color: red\"> Precedenza delle operazioni </span>\n",
    "L'ordine delle operazioni è un ordine di precedenza standard che le diverse operazioni hanno l'una rispetto all'altra. Python utilizza lo stesso  ordine delle operazioni imparate alle scuole elementari. Le potenze vengono eseguite prima della moltiplicazione e della divisione, che a loro volta vengono eseguite prima dell'addizione e della sottrazione. In Python, puoi anche utilizzare le parentesi ( ) per sovrascrivere l'ordine standard delle operazioni."
   ]
  },
  {
   "cell_type": "markdown",
   "id": "a3b116a7-309e-4b77-ae67-5327409c9045",
   "metadata": {},
   "source": [
    "### <span style=\"color: blue \"> Provare: </span>\n",
    "$\\frac{3 \\cdot 4 + 6}{(2^2 +4/2)} $"
   ]
  },
  {
   "cell_type": "code",
   "execution_count": 8,
   "id": "deac8cca-9313-44da-bef0-af0c54abcb5d",
   "metadata": {},
   "outputs": [
    {
     "data": {
      "text/plain": [
       "3.0"
      ]
     },
     "execution_count": 8,
     "metadata": {},
     "output_type": "execute_result"
    }
   ],
   "source": [
    "(3*4 +6)/(2**2+4/2)"
   ]
  },
  {
   "cell_type": "markdown",
   "id": "33a3248d-2bdc-4f66-b976-c39c7585c013",
   "metadata": {},
   "source": [
    "### <span style=\"color: red\"> Funzioni matematiche </span>\n",
    "Python dispone di numerose funzioni aritmetiche di base come sin, cos, tan, asin, acos, atan, exp, log, log10 e sqrt memorizzate in un modulo  denominato math. Per prima cosa, importa questo modulo per accedere a queste funzioni. La funzione ``` log``` equivale al logaritmo naturale, invece ```log10``` è il logaritmo in base 10. Digitare ed eseguire: \n",
    "```\n",
    "import math\n",
    "```\n",
    "\n",
    "Per avere informazioni su una funzione digitare ``` math.log? ``` ed eseguire."
   ]
  },
  {
   "cell_type": "code",
   "execution_count": 11,
   "id": "f30df507-f67a-4681-ae99-6abd931c4a5b",
   "metadata": {},
   "outputs": [],
   "source": [
    "import math\n",
    "# math.log?"
   ]
  },
  {
   "cell_type": "markdown",
   "id": "8259afb5-e4b4-48aa-b68d-e1717cdd8371",
   "metadata": {},
   "source": [
    "### <span style=\"color: blue \"> Provare a calcolare: </span>\n",
    "- $ \\sqrt 4 $\n",
    "- $ sin(\\frac{\\pi}{2})$\n",
    "- $ e^{\\frac{3}{4}}$\n",
    "- $ e^{log 10}$\n",
    "\n",
    "Inoltre, è possibile digitare ``` math.inf ``` al prompt dei comandi per indicare l'infinito o ```math.nan``` per indicare qualcosa che non è un numero ma che si desidera venga trattato come tale. \n",
    "Python è in grado di gestire anche numeri complessi, ma la parte immafinaria è ```j``` e non ```i```: ``` 1+2j```, oppure ```complex(1,2)```."
   ]
  },
  {
   "cell_type": "code",
   "execution_count": 12,
   "id": "6db48717-cd84-4bfa-b49d-b611983f9bb5",
   "metadata": {},
   "outputs": [
    {
     "data": {
      "text/plain": [
       "(1+2j)"
      ]
     },
     "execution_count": 12,
     "metadata": {},
     "output_type": "execute_result"
    }
   ],
   "source": [
    "# provare qui\n",
    "math.sqrt(4)\n",
    "math.sin(math.pi/2)\n",
    "math.exp(3/4)\n",
    "math.exp(math.log(10)) # Il risultato è dovuto all'approssimazione di python\n",
    "1/math.inf\n",
    "math.inf*2\n",
    "math.inf/math.inf\n",
    "1+2j\n",
    "complex(1,2)"
   ]
  },
  {
   "cell_type": "markdown",
   "id": "0ff63634",
   "metadata": {},
   "source": [
    "### Variabili e Tipi di Dato Base\n",
    "\n",
    "In Python non serve dichiarare il tipo di variabile, viene assegnato automaticamente. Esempi di tipi base sono: interi (`int`), numeri reali (`float`), booleani (`bool`), stringhe (`str`)."
   ]
  },
  {
   "cell_type": "code",
   "execution_count": null,
   "id": "40708f11",
   "metadata": {},
   "outputs": [],
   "source": [
    "a = 10      # intero\n",
    "b = 3.14    # float\n",
    "c = True    # booleano\n",
    "d = \"ciao\"  # stringa\n",
    "\n",
    "print(a, type(a))\n",
    "print(b, type(b))\n",
    "print(c, type(c))\n",
    "print(d, type(d))"
   ]
  },
  {
   "cell_type": "markdown",
   "id": "9a3e2b9c",
   "metadata": {},
   "source": [
    "### Funzioni Built-in Utili\n",
    "\n",
    "- `print()`: mostra valori a schermo\n",
    "- `type()`: restituisce il tipo della variabile\n",
    "- `help()`: mostra la documentazione di una funzione o oggetto\n",
    "- `dir()`: mostra gli attributi/metodi disponibili di un oggetto"
   ]
  },
  {
   "cell_type": "code",
   "execution_count": 16,
   "id": "404bed0f",
   "metadata": {},
   "outputs": [
    {
     "name": "stdout",
     "output_type": "stream",
     "text": [
      "Ciao a tutti!\n",
      "<class 'int'>\n",
      "<class 'float'>\n",
      "<class 'str'>\n"
     ]
    }
   ],
   "source": [
    "print(\"Ciao a tutti!\")\n",
    "print(type(42))\n",
    "print(type(3.14))\n",
    "print(type(\"testo   Fede ciao__ 2\"))\n",
    "\n",
    "# help(len)  # decommentare per vedere la documentazione\n",
    "# print(dir(\"ciao\"))"
   ]
  },
  {
   "cell_type": "markdown",
   "id": "09459e42",
   "metadata": {},
   "source": [
    "### Errori Comuni e Debugging\n",
    "\n",
    "Quando si scrive codice, è normale incontrare errori. Alcuni errori tipici:\n",
    "\n",
    "- **SyntaxError**: sintassi errata\n",
    "- **NameError**: variabile non definita\n",
    "- **TypeError**: operazione con tipi incompatibili\n",
    "\n",
    "Leggere il messaggio di errore aiuta a capire e correggere velocemente."
   ]
  },
  {
   "cell_type": "code",
   "execution_count": null,
   "id": "cd65bf4b",
   "metadata": {},
   "outputs": [],
   "source": [
    "# Esempi di errori comuni (decommentare per provare)\n",
    "\n",
    "# SyntaxError: manca una parentesi\n",
    "# print(\"ciao\"\n",
    "\n",
    "# NameError: variabile non definita\n",
    "# print(x_non_definito)\n",
    "\n",
    "# TypeError: operazione non valida\n",
    "# print(\"ciao\" + 3)"
   ]
  }
 ],
 "metadata": {
  "kernelspec": {
   "display_name": "Python 3 (ipykernel)",
   "language": "python",
   "name": "python3"
  },
  "language_info": {
   "codemirror_mode": {
    "name": "ipython",
    "version": 3
   },
   "file_extension": ".py",
   "mimetype": "text/x-python",
   "name": "python",
   "nbconvert_exporter": "python",
   "pygments_lexer": "ipython3",
   "version": "3.9.7"
  }
 },
 "nbformat": 4,
 "nbformat_minor": 5
}
