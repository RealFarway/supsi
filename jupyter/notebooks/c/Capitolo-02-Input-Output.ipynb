{
 "cells": [
  {
   "cell_type": "markdown",
   "metadata": {},
   "source": [
    "# 2. Input/Output"
   ]
  },
  {
   "attachments": {
    "image.png": {
     "image/png": "[encoded data removed]"
    }
   },
   "cell_type": "markdown",
   "metadata": {},
   "source": [
    "\n",
    "\n",
    "## 2.1. Printf:\n",
    "\n",
    "    printf(\"%s %d %s\", \"Il valore\", a, \"è un numero intero\");\n",
    "\n",
    "    printf(\"Il valore %d è un numero intero\", a);\n",
    "\n",
    "Il formato generale di printf è:\n",
    "\n",
    "    printf(format,arg1,arg2,...)\n",
    "\n",
    "I caratteri all'interno della stringa di formato, se non sono preceduti da % (ovvero se sono tutti caratteri normali) vengono stampati come tali. \n",
    "\n",
    "    printf(\"Bla\");\n",
    "\n",
    "    => Bla\n",
    "\n",
    "Altrimenti ogni % è seguito da caratteri che descrivono in quale formato dev'essere mostrato il corrispondente argomento.\n",
    "In generale ad ogni % deve corrispondere un argomento nella lista di argomenti.\n",
    "Il tipo del valore da stampare dev'essere consistente con la specificazione di formattazione fatta da printf, cioè, se si chiede a printf di stampare un float, il valore da dare deve anche essere un float.\n",
    "\n",
    "![image.png](attachment:image.png)\n",
    "\n",
    "I primi 5 caratteri vengono usati per visualizzare numeri interi. Siccome un char può anche essere letto come intero, anche questo può venir visualizzato con questi caratteri.\n",
    "Il carattere %u serve a mostrare un unsigned int, ma può anche servire per forzare un int a venir mostrato come unsigned int.\n",
    "Per %o, %x e %X printf non stampa i caratteri 0 o 0x, che precedono i valori ottale e esadecimale, ma solo il valore. Se si desidera mostrare la notazione, si deve inserire # in questo modo: %#o, rispettivamente %#x.\n",
    "I seguenti 5 caratteri servono a visualizzare numeri reali (float oppure double). Il primo, %f, stampa per default fino a 6 cifre di precisione, il secondo e il terzo usano la forma esponenziale con una mantissa di 6 decimali e un esponente di almeno 2. L'ultima coppia (%g e %G) sceglie , invece, a seconda del numero da stampare, se conviene usare %f oppure %e (o %E).\n",
    "Il formato %c mostra un carattere singolo, come:\n",
    "\n",
    "    char ch = 'A';\n",
    "    printf(\"%c\\n\", ch);\n",
    "\n",
    "Anche un intero può essere utilizzato. Verrà però stampato con il suo carattere corrispondente in codice ASCII:\n",
    "\n",
    "    printf(\"%c\\n\",7)\n",
    "\n",
    "Il formato %s serve a stampare una stringa. Questa deve contenere alla fine il carattere di terminazione, altrimenti vengono stampati tutti gli elementi in memoria fino a trovare un carattere nullo.\n",
    "L'ultima conversione è %%, cioè la possibilità di stampare il carattere di percentuale:\n",
    "\n",
    "    printf(\"Sconto del %d%%\", discount);\n",
    "\n",
    "Il formato per printf non offre però solo la possibilità di definire il tipo, ma anche alcuni parametri, come il numero di cifre decimali, la larghezza, ecc.\n",
    "Il formato generale è il seguente:\n",
    "\n",
    "%[flags][width][.prec][l]type\n",
    "\n",
    "\n",
    "\n"
   ]
  },
  {
   "cell_type": "code",
   "execution_count": null,
   "metadata": {},
   "outputs": [],
   "source": [
    "#include <stdio.h>\n",
    "\n",
    "int main() \n",
    "{\n",
    "    char ch = 'A';\n",
    "    \n",
    "    printf(\"Stampa carattere:       %c\\n\", ch);\n",
    "    printf(\"Stampa valore (codice): %d\\n\", ch);\n",
    "    \n",
    "    return 0;  \n",
    "}"
   ]
  },
  {
   "cell_type": "markdown",
   "metadata": {},
   "source": [
    "\n",
    "\n",
    "### Significato degli elementi opzionali\n",
    "\n",
    "    Flags:\n",
    "        -:\tAllinea il valore a sinistra\n",
    "        +:\tPrecede il valore con + o -\n",
    "        spazio: Precede un valore positivo con lo spazio\n",
    "        #:\tPrecede un valore ottale con 0, un valore esadecimale con 0x, mostra il punto decimale con floats, lascia in %g (o %G) gli zeri non significativi.\n",
    "\n",
    "\n",
    "    Width: Larghezza minima del campo; * significa prendere il prossimo argomento come larghezza del campo.\n",
    "\n",
    "\n",
    "    Prec: Numero minimo di cifre per interi; numero di cifre decimali per %e e %E; numero massimo di cifre significative da mostrare per %g e %G; numero massimo di caratteri per %s; * significa prendere il prossimo argomento come grandezza.\n",
    "\n",
    "\n",
    "    l: Stampa long int\n",
    "\n",
    "Normalmente printf stampa solo i caratteri necessari. \n",
    "L'opzione width serve a evitare questo. Se ci sono meno caratteri di quanto è la larghezza, il valore viene allineato a destra. Per allinearlo a sinistra è necessario avere un - specificato nei flags.\n",
    "Se però il valore di width è minore della larghezza da stampare, viene semplicemente ignorato.\n",
    "\n",
    "    printf(\":%6d:\\n\",100)\n",
    "    => :   100:\n",
    "\n",
    "    printf(\":%-6d:\\n\",100)\n",
    "    => :100   :\n",
    "\n",
    "    printf(\":%1d:\\n\",100)\n",
    "    => :100:\n"
   ]
  },
  {
   "cell_type": "code",
   "execution_count": null,
   "metadata": {},
   "outputs": [],
   "source": [
    "#include <stdio.h>\n",
    "\n",
    "int main() \n",
    "{\n",
    "    printf(\":%6d:\\n\",100);\n",
    "    printf(\":%-6d:\\n\",100);\n",
    "    printf(\":%1d:\\n\",100);\n",
    "    \n",
    "    return 0;  \n",
    "}"
   ]
  },
  {
   "cell_type": "markdown",
   "metadata": {},
   "source": [
    "È inoltre possibile specificare il campo width come parametro della funzione printf. Per fare questo è necessario specificare * al posto della larghezza e sostituirlo con un valore nel parametro corrispondente. Se ad esempio la variabile width valesse 10:\n",
    "\n",
    "    printf(\"%*d\", width, result);\n",
    "\n",
    "il valore di result verrebbe mostrato in 10 caratteri allineato a destra.\n"
   ]
  },
  {
   "cell_type": "code",
   "execution_count": null,
   "metadata": {},
   "outputs": [],
   "source": [
    "#include <stdio.h>\n",
    "\n",
    "int main() \n",
    "{\n",
    "    for (int i = 1; i < 10; i++) {\n",
    "        printf(\"%*d\\n\", i, 100);\n",
    "    }\n",
    "    \n",
    "    return 0;  \n",
    "}"
   ]
  },
  {
   "cell_type": "markdown",
   "metadata": {},
   "source": [
    "Prec è un punto seguito da un valore intero. Questo specifica la precisione del valore da stampare.\n",
    "Davanti a un convertitore per interi sta a significare il numero minimo di cifre da mostrare:\n",
    "\n",
    "    printf(\"%.6d\", 100);\n",
    "    => 000100\n",
    "\n",
    "Davanti a %f, %e o %E dà il numero di valori decimali da mostrare. Il valore viene automaticamente arrotondato:\n",
    "\n",
    "    printf(\"%.2f\", 100.1493);\n",
    "    => 100.15\n",
    "\n",
    "Davanti a %g e %G specifica il numero massimo di cifre significative.\n",
    "Davanti a %s determina il numero massimo di caratteri da mostrare (se la stringa è più corta i caratteri saranno ancora meno):\n",
    "\n",
    "    printf(\"%.4s\", \"abcdefghi\");\n",
    "    => abcd\n",
    "\n",
    "Anche prec può essere specificato come argomento:\n",
    "\n",
    "    printf(\"Il risultato è %.*f\\n\",places, result);\n",
    "\n",
    "È anche possibile specificare più parametri come argomenti:\n",
    "\n",
    "    printf(\":%*.*d:\\n\",10,6,100);\n",
    "    => :    000100:\n",
    "\n",
    "Stampa 100 in un campo di 10 caratteri stampandone almeno 6.\n",
    "\n",
    "L'opzione l serve a stampare valori long int:\n",
    "\n",
    "    printf(\"%ld\\n\",lval);"
   ]
  },
  {
   "cell_type": "code",
   "execution_count": null,
   "metadata": {},
   "outputs": [],
   "source": [
    "#include <stdio.h>\n",
    "\n",
    "int main() \n",
    "{\n",
    "    printf(\"%.6d\\n\", 100);   \n",
    "    printf(\"%.2f\\n\", 100.1493);\n",
    "    printf(\"%.4s\\n\", \"abcdefghi\");\n",
    "    printf(\"%.*f\\n\", 2, 10.123);\n",
    "    printf(\":%*.*d:\\n\",10,6,100);\n",
    "    \n",
    "    return 0;  \n",
    "}"
   ]
  },
  {
   "cell_type": "markdown",
   "metadata": {},
   "source": [
    "### Caratteri escape usati\n",
    "\n",
    "    \\n\tFine riga (a capo)\n",
    "\n",
    "    \\r\tRiposiziona il cursore dov'era prima del printf\n",
    "\n",
    "    \\t\tTabulatore\n",
    "\n",
    "    \\v\tTabulatore verticale\n",
    "\n",
    "    \\f\tSalto pagina\n",
    "\n",
    "    \\a\tAllarme\n",
    "\n",
    "    \\b\tBackspace\n"
   ]
  },
  {
   "cell_type": "markdown",
   "metadata": {},
   "source": [
    "### Clearscreen da terminale\n",
    "\n",
    "Per poter effettuare un'operazione di clearscreen da terminale, è necessario passare i caratteri \"escape\" con la funzione printf.\n",
    "\n",
    "    Clear:\tprintf(\"\\033[2J\");\n",
    "    Home:\tprintf(\"\\033[1;1H\");\n",
    "\n",
    "### Annotazioni Java\n",
    "\n",
    "La funzione printf() è stata aggiunta in Java a partire dalla sua versione 5, proprio per dare agli sviluppatori Java le stesse possibilità di formattazione di testo a disposizione dei programmatori C.\n",
    "Il metodo printf() è specificato nella classe PrintWriter, quella che permette chiamate di questo tipo: \n",
    "\n",
    "    System.out.printf(…);\n",
    "\n",
    "Il meccanismo di formattazione è però disponibile (e implementato) nel metodo static format() della classe String. Questo metodo può essere usato anche solo semplicemente per eseguire trasformazioni in stringhe, come nell’esempio che segue. \n",
    "\n",
    "    int val = 5;\n",
    "    String valAsString = String.format(“%d”, val);\n",
    "\n",
    "Per ottenere un meccanismo simile in C, bisogna invece usare la funzione sprintf(), come vedremo in seguito. \n",
    "\n"
   ]
  },
  {
   "attachments": {
    "image.png": {
     "image/png": "[encoded data removed]"
    }
   },
   "cell_type": "markdown",
   "metadata": {},
   "source": [
    "\n",
    "\n",
    "\n",
    "## 2.2.  Scanf\n",
    "\n",
    "    scanf(\"%d\",&a);\n",
    "\n",
    "Legge nel programma dati in modo formattato. La variabile in cui devono essere letti i dati dev'essere passata con il suo indirizzo.\n",
    "I possibili caratteri di conversione sono i seguenti:\n",
    "\n",
    "![image.png](attachment:image.png)\n",
    "\n",
    "Con %e, %f e %g si leggono numeri float, che non devono necessariamente essere espressi con il punto. Possono contenere l'esponente.\n",
    "Leggendo una stringa con %s, in cui la stringa termina con uno spazio (space, tab, newline).\n",
    "Se si vuole definire la fine della lista in altro modo, basta utilizzare la possibilità data da [...] e [^...], cioè quella di definire i caratteri validi o quelli non validi (terminazione della stringa).\n",
    "\n",
    "    scanf(\"%[a-z]\",letters);\n",
    "\n",
    "Viene letta una stringa da input fino a quando si incontra un carattere che non sia una lettera minuscola. Mentre qui sotto vengono lette sia minuscole che maiuscole:\n",
    "\n",
    "    scanf(\"%[a-zA-Z]\",letters);\n",
    "\n",
    "Il primo che segue legge invece tutto fino a una virgola o un punto, mentre il secondo accetta tutto fino al newline:\n",
    "\n",
    "    scanf(\"%[^,.]\",letters);\n",
    "    scanf(\"%[^\\n]\",letters);\n",
    "\n",
    "Anche scanf, come printf, offre la possibilità di definire delle opzioni, il suo formato generale è il seguente:\n",
    "\n",
    "\t%[*][size][l][h]type"
   ]
  },
  {
   "cell_type": "code",
   "execution_count": null,
   "metadata": {},
   "outputs": [],
   "source": [
    "#include <stdio.h>\n",
    "\n",
    "int main() \n",
    "{\n",
    "    int val;\n",
    "    \n",
    "    printf(\"Inserire un valore intero: \");\n",
    "    scanf(\"%d\", &val);\n",
    "    \n",
    "    printf(\"Valore letto da tastiera: %d\\n\", val);\n",
    "    \n",
    "    return 0;  \n",
    "}"
   ]
  },
  {
   "cell_type": "code",
   "execution_count": null,
   "metadata": {},
   "outputs": [],
   "source": [
    "#include <stdio.h>\n",
    "\n",
    "int main() \n",
    "{\n",
    "    float fval;\n",
    "    \n",
    "    printf(\"Inserire un valore float: \");\n",
    "    scanf(\"%f\", &fval);\n",
    "    \n",
    "    printf(\"Valore letto da tastiera: %f\\n\", fval);\n",
    "    \n",
    "    return 0;  \n",
    "}"
   ]
  },
  {
   "cell_type": "code",
   "execution_count": null,
   "metadata": {},
   "outputs": [],
   "source": [
    "#include <stdio.h>\n",
    "\n",
    "int main() \n",
    "{\n",
    "    char letters[100];\n",
    "    \n",
    "    printf(\"Inserire un valore float: \");\n",
    "    scanf(\"%[a-z]\",letters);\n",
    "    \n",
    "    printf(\"Sequenza letta %s\\n\", letters);\n",
    "    \n",
    "    return 0;  \n",
    "}"
   ]
  },
  {
   "cell_type": "markdown",
   "metadata": {},
   "source": [
    "### Significato degli elementi opzionali\n",
    "\n",
    "    *\tIl campo dev'essere saltato e non letto\n",
    "\n",
    "\n",
    "    size:\tGrandezza massima del campo in input\n",
    "\n",
    "\n",
    "    l:\tIl valore dev'essere registrato in un long int o in un double\n",
    "\n",
    "\n",
    "    h:\tIl valore da leggere dev'essere registrato in un short int\n",
    "\n",
    "\n",
    "    type:\tCarattere di conversione\n",
    "\n",
    "Il parametro da passare a scanf dev'essere l'indirizzo di una variabile, il cui tipo deve corrispondere a quello del valore da leggere.\n",
    "L'asterisco * sta a significare che scanf deve \"saltare\" il valore che segue, cioè non assegnarlo a nessuna variabile. La chiamata\n",
    "\n",
    "    scanf(\"%d %*s %d\", &v1, &v2);\n",
    "\n",
    "indica di leggere un intero, seguito da una stringa, seguito da un altro intero. La stringa deve però essere ignorata, e nelle due variabili devono essere letti i due interi.\n",
    "Scanf ritorna il numero di valori assegnati, e non letti. In questo caso ritorna 2 e non 3.\n",
    "L'opzione size specifica la lunghezza massima del campo da leggere. È utile soprattutto con le stringhe:\n",
    "\n",
    "     char word[10];\n",
    "     scanf(\"%9s\", word);\n",
    "\n",
    "Questo assicura che l'array word non vada in \"overflow\". Scanf piazza automaticamente un carattere '\\0' alla fine della stringa.\n",
    "Questo tipo di specificazione è anche utile per leggere numeri vicini. La chiamata:\n",
    "\n",
    "     scanf(\"%3d%2d\", &part, &lot);\n",
    "\n",
    "con l'input: 97623 permette di leggere 976 in part e 23 in lot.\n",
    "\n",
    "Con tutti i caratteri di conversione tranne [] e %c, scanf salta ogni carattere vuoto prima di iniziare a leggere l'input. Poi legge fino a quando trova un carattere non valido per quel tipo di input. \n",
    "Importante: la prossima chiamata di scanf leggerà a partire dal carattere che ha causato l'interruzione precedente. Ecco alcuni esempi:\n",
    "\n",
    "    scanf (\"%d %s\", &val, buf);\n",
    "\n",
    "Legge un numero intero e una stringa, sia che siano attaccati, sia che siano separati da uno spazio, sia che siano separati da una serie di spazi e newline. La stringa è la serie di caratteri prima del prossimo blank. L'input:\n",
    "\n",
    "    -123    test string\n",
    "\n",
    "verrà letto in questo modo: -123 in val, \"test\" in buf.\n"
   ]
  },
  {
   "cell_type": "markdown",
   "metadata": {},
   "source": [
    "\n",
    "\n",
    "### Esempio 1\n",
    "\n",
    "Il prossimo programma serve a vedere l'importanza dei caratteri vuoti quando si legge caratteri:"
   ]
  },
  {
   "cell_type": "code",
   "execution_count": null,
   "metadata": {},
   "outputs": [],
   "source": [
    "#include <stdio.h>\n",
    "\n",
    "int main()\n",
    "{\n",
    "   char c1,c2,c3;\n",
    "   scanf(\"%c%c%c\", &c1,&c2,&c3);\n",
    "   printf(\":%c%c%c:\\n\", c1,c2,c3);\n",
    "\n",
    "   return 0;\n",
    "}\n"
   ]
  },
  {
   "cell_type": "markdown",
   "metadata": {},
   "source": [
    "    (_ sta per \"blank\", spazio)\n",
    "    \n",
    "    Input: x_y\n",
    "    Output: :x y:\n",
    "    \n",
    "    Input: _x_y\n",
    "    Output: : x :\n",
    "    "
   ]
  },
  {
   "cell_type": "markdown",
   "metadata": {},
   "source": [
    "Un particolare importante nell'utilizzo di scanf è che si inserisce uno spazio nel parametro di controllo, questo significa che verranno \"saltati\" tutti gli spazi. Se cioè lo scanf precedente fosse stato scritto:\n",
    "\n",
    "    scanf(\"%c %c %c\", &c1,&c2,&c3);\n",
    "\n",
    "l'input con spazi avrebbe dato un risultato diverso:\n"
   ]
  },
  {
   "cell_type": "code",
   "execution_count": null,
   "metadata": {},
   "outputs": [],
   "source": [
    "#include <stdio.h>\n",
    "\n",
    "int main()\n",
    "{\n",
    "   char c1,c2,c3;\n",
    "   scanf(\"%c %c %c\", &c1,&c2,&c3);\n",
    "   printf(\":%c%c%c:\\n\", c1,c2,c3);\n",
    "\n",
    "   return 0;\n",
    "}\n",
    "\n"
   ]
  },
  {
   "cell_type": "markdown",
   "metadata": {},
   "source": [
    "    Input: x         y         z\n",
    "    Output: :xyz:\n",
    "    \n",
    "Altri esempi:\n",
    "\n",
    "    scanf(\" %[a..z]\", str);\n",
    "    -> salta gli spazi iniziali, legge tutto quello che trova fino a trovare un carattere che non sia incluso nell'insieme definito.\n",
    "\n",
    "    scanf(\"%[a..z]\", str);\n",
    "    -> legge tutto (anche gli spazi o i newline iniziali) fino a trovare un carattere che non sia incluso nell'insieme definito.\n",
    "\n",
    "    scanf(\" %[^\\n]\", str);\n",
    "    -> legge tutto (anche gli spazi o i newline iniziali) fino al prossimo newline dopo la stringa."
   ]
  },
  {
   "cell_type": "code",
   "execution_count": null,
   "metadata": {},
   "outputs": [],
   "source": [
    "#include <stdio.h>\n",
    "\n",
    "int main()\n",
    "{\n",
    "    char str[100];\n",
    "    \n",
    "    scanf(\" %[a..z]\", str);\n",
    "    printf(\"Output: %s\\n\", str);\n",
    "    \n",
    "    return 0;\n",
    "}"
   ]
  },
  {
   "cell_type": "markdown",
   "metadata": {},
   "source": [
    "\n",
    "\n",
    "### Caratteri non di formattazione\n",
    "\n",
    "Ogni carattere nella stringa di formattazione che non sia di formattazione, deve essere ritrovato come tale nell'input. Quindi per leggere una data nel formato gg/mm/aa, potrebbe venir usato lo scanf seguente:\n",
    "\n",
    "    scanf(\"%d/%d/%d\",&day, &month, &year);\n",
    "    \n",
    "    12/4/94\n",
    "    12 /    4/    94\n",
    "    12    /4x94\n",
    "\n",
    "Leggerebbe il primo input, ma non gli altri due.\n"
   ]
  },
  {
   "cell_type": "code",
   "execution_count": null,
   "metadata": {},
   "outputs": [],
   "source": []
  }
 ],
 "metadata": {
  "kernelspec": {
   "display_name": "C",
   "language": "c",
   "name": "c"
  },
  "language_info": {
   "file_extension": ".c",
   "mimetype": "text/plain",
   "name": "text/x-csrc"
  }
 },
 "nbformat": 4,
 "nbformat_minor": 4
}
