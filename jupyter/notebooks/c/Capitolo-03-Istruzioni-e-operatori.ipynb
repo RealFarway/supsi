{
 "cells": [
  {
   "cell_type": "markdown",
   "metadata": {
    "pycharm": {
     "name": "#%% md\n"
    }
   },
   "source": [
    "# 3. Istruzioni e operatori"
   ]
  },
  {
   "cell_type": "markdown",
   "metadata": {
    "pycharm": {
     "name": "#%% md\n"
    }
   },
   "source": [
    "Ogni istruzione in C deve terminare con il carattere di punto e virgola (';'). Solo un blocco di istruzioni, che inizia con '{' e termina con '}', non ha bisogno di questo carattere alla fine.\n",
    "\n",
    "    a = b;\n",
    "\n",
    "    {b = c; d = e; }\n",
    "\n",
    "Un'altra regola in C è quella che le espressioni di controllo che appaiono nelle strutture condizionali e iterative devono trovarsi tra le parentesi '(' e ')'. Il resto dell'istruzione segue direttamente l'espressione di controllo:\n",
    "\n",
    "    if (a<b)\n",
    "       ultimo = primo;\n",
    "\n",
    "    while(count<10)\n",
    "       count++;\n",
    "\n",
    "Se le istruzioni che seguono sono più di una, devono essere incluse all'interno di un blocco.\n",
    "\n",
    "    while(contatore<10){\n",
    "       contatore++;\n",
    "       printf(\"%d\\n\",contatore);\n",
    "    }\n",
    "\n",
    "Da notare l'indentazione delle istruzioni rispetto al primo elemento della struttura iterativa e la posizione delle parentesi di inizio e fine blocco. È buona cosa fare uso di questa prassi (ed altre che vedremo) per rendere i programmi più leggibil\n"
   ]
  },
  {
   "cell_type": "markdown",
   "metadata": {
    "pycharm": {
     "name": "#%% md\n"
    }
   },
   "source": [
    "## 3.1. Espressioni\n",
    "\n",
    "L'esecuzione di un'espressione serve ad ottenere un valore come risultato di operazioni, a modificare un certo numero di variabili oppure ad eseguire operazioni di input/output. Solitamente si tratta di un'assegnazione, di un calcolo, di un'operazione di incremento o decremento, oppure della chiamata di una funzione.\n",
    "\n",
    "    velocita = distanza / tempo;\n",
    "    contatore++;\n",
    "    printf(\"Buongiorno\\n\");\n",
    "    ...\n"
   ]
  },
  {
   "cell_type": "markdown",
   "metadata": {
    "pycharm": {
     "name": "#%% md\n"
    }
   },
   "source": [
    "## 3.2. Operatori\n",
    "\n",
    "### Operatori aritmetici\n",
    "\n",
    "    +, -, *, /, %.\n",
    "\n",
    "Tranne l'operatore % (modulo), applicabile soltanto ai numeri interi, gli altri possono essere applicati a tutti i tipi scalari.\n",
    "Vengono mantenute le precedenze degli operatori *, /, % rispetto ai rimanenti + e -.\n"
   ]
  },
  {
   "cell_type": "markdown",
   "metadata": {
    "pycharm": {
     "name": "#%% md\n"
    }
   },
   "source": [
    "### Operatori relazionali e logici\n",
    "\n",
    "    >, >=, <, <=\n",
    "    == , !=\n",
    "\n",
    "Usati per eseguire confronti.\n",
    "\n",
    "    ||, &&, !\n",
    "\n",
    "Operazioni logiche or, and e not.\n",
    "\n"
   ]
  },
  {
   "cell_type": "markdown",
   "metadata": {
    "pycharm": {
     "name": "#%% md\n"
    }
   },
   "source": [
    "### Operatori di assegnamento\n",
    "\n",
    "Usati per modificare il valore di una variabile. La variabile (lvalue) a cui viene assegnato il valore  si trova alla sinistra dell'operatore.\n",
    "\n",
    "    a = 3;\n",
    "    a = a + 2; \n",
    "    a += 2;\n",
    "    b *= 3;\n",
    "\n"
   ]
  },
  {
   "cell_type": "code",
   "execution_count": null,
   "metadata": {
    "pycharm": {
     "name": "#%%\n"
    }
   },
   "outputs": [],
   "source": [
    "#include <stdio.h>\n",
    "\n",
    "int main() \n",
    "{\n",
    "    int val = 10;\n",
    "    \n",
    "    printf(\"Valore: %d\\n\", val);\n",
    "    val += 3;\n",
    "    printf(\"Valore: %d\\n\", val);\n",
    "    \n",
    "    printf(\"Valore: %d\\n\", val + 3);\n",
    "    printf(\"Valore: %d\\n\", val);\n",
    "    \n",
    "    return 0;\n",
    "}"
   ]
  },
  {
   "cell_type": "markdown",
   "metadata": {
    "pycharm": {
     "name": "#%% md\n"
    }
   },
   "source": [
    "### Operatori di incremento e decremento\n",
    "\n",
    "    n++ , ++n, n-- , --n\n",
    "\n",
    "In posizione prefix, incrementa la variabile prima di utilizzarne il valore, mentre in posizione postfix, l'incrementa dopo averne utilizzato il valore. Questa differenza è rilevante quando l'operatore viene utilizzato assieme ad un altro operatore. La posizione (prefix o postfix) determina la priorità dell'incremento (o decremento) rispetto all'altra operazione.\n",
    "Se n vale 5:\n",
    "\n",
    "    x = n++;\t(x = 5)\n",
    "    x = ++n;\t(x = 6)"
   ]
  },
  {
   "cell_type": "code",
   "execution_count": null,
   "metadata": {
    "pycharm": {
     "name": "#%%\n"
    }
   },
   "outputs": [],
   "source": [
    "#include <stdio.h>\n",
    "\n",
    "int main() \n",
    "{\n",
    "    int post = 10;\n",
    "    int pre = 10;\n",
    "    \n",
    "    printf(\"Valori pre e post: %d %d\\n\", pre, post);\n",
    "    printf(\"Valore con inc:    %d %d\\n\", ++pre, post++);\n",
    "    printf(\"Valori pre e post: %d %d\\n\", pre, post);\n",
    "    \n",
    "    return 0;\n",
    "}"
   ]
  },
  {
   "cell_type": "markdown",
   "metadata": {
    "pycharm": {
     "name": "#%% md\n"
    }
   },
   "source": [
    "### Operatori bit a bit \n",
    " \n",
    "Per la manipolazione di bit ci sono operatori applicabili soltanto a operandi interi (char, int, short e long):\n",
    "\n",
    "    & , | , ^ , << , >> \n",
    "\n",
    "L'operatore AND (&) viene spesso usato per azzerare particolari insiemi di bit (operazioni di mascheramento):\n",
    "\n",
    "    n = n & 0177\t\t\t0 (zero) introduce un ottale (001 111 111)\n",
    "    n = n & 15\t\t\t\t(1111)\n",
    "\n",
    "La prima operazione serve ad azzerare tutti i bit di n, esclusi i 7 meno significativi (...000001111111).\n",
    "La prossima operazione, invece, pone a 1 i bit più a destra di m.\n",
    "\n",
    "    m = m | 0177 \n",
    "\n",
    "L'operatore XOR (^) mette a uno tutti i bit che si trovano in posizioni nelle quali i bit dei due operandi hanno valore diverso.\n",
    "Esiste poi l'operatore di shift, che serve a spostare a destra o a sinistra i valori dei bit di una variabile.\n",
    "\n",
    "    ix << 2\n",
    "\n",
    "In questo caso abbiamo uno shift verso sinistra di due posizioni, le due posizioni più a destra vengono riempite con lo zero (equivale a moltiplicare la variabile ix per 4).\n",
    "\n",
    "    ix >> 3\n",
    "\n",
    "In questo, invece, abbiamo uno shift verso destra di 3 posizioni. Se la variabile ix è di tipo unsigned, i bit inseriti sono zeri, altrimenti: o sono ancora zeri (shift logico) o sono uguali al segno (shift aritmetico).\n"
   ]
  },
  {
   "cell_type": "code",
   "execution_count": null,
   "metadata": {
    "pycharm": {
     "name": "#%%\n"
    }
   },
   "outputs": [],
   "source": [
    "#include <stdio.h>\n",
    "\n",
    "int main() \n",
    "{\n",
    "    int val = 70;  //0...01000110\n",
    "    \n",
    "    printf(\"Valore: %d\\n\", val);\n",
    "    printf(\"Valore: %d\\n\", val | 0);   //valore invariato\n",
    "    printf(\"Valore: %d\\n\", val | 3);   //valore messo a 1 negli ultimi 2 bit (11)\n",
    "    printf(\"Valore: %d\\n\", val & 0);   //valore completamente a 0\n",
    "    printf(\"Valore: %d\\n\", val & 7);   //valore invariato negli ultimi 3 bit (111)\n",
    "    \n",
    "    return 0;\n",
    "}"
   ]
  },
  {
   "cell_type": "markdown",
   "metadata": {
    "pycharm": {
     "name": "#%% md\n"
    }
   },
   "source": [
    "### Opretatore ternario\n",
    "\n",
    "Il linguaggio C dispone inoltre di un operatore ternario che serve a costruire espressioni condizionali. Lo vedremo nel prossimo paragrafo."
   ]
  },
  {
   "cell_type": "markdown",
   "metadata": {
    "pycharm": {
     "name": "#%% md\n"
    }
   },
   "source": [
    "## 3.3. Strutture condizionali\n",
    "\n",
    "Ci sono due forme di strutture condizionali, con o senza l'elemento else. \n",
    "\n",
    "if-statement\t::= if (expression) statement\n",
    "\n",
    "if-else-statement\t::= if (expression) statement else statement\n",
    "\n",
    "Per ogni forma di if, prima viene valutata l'espressione all'interno della condizione. Se il valore ottenuto da questa espressione è diverso da zero, viene eseguita l'istruzione (o il blocco di istruzioni) che segue.\n",
    "Se invece il valore dell'espressione nella condizione restituisce zero, se c'è un else viene eseguita l'istruzione (o il blocco di istruzioni) che segue la parola chiave else, altrimenti il controllo del programma salta al termine dell'intera struttura if.\n",
    "\n",
    "##### Esempio:"
   ]
  },
  {
   "cell_type": "code",
   "execution_count": null,
   "metadata": {
    "pycharm": {
     "name": "#%%\n"
    }
   },
   "outputs": [],
   "source": [
    "#include <stdio.h>\n",
    "\n",
    "int main()\n",
    "{\n",
    "    int a,b;\n",
    "\n",
    "    printf(\"Inserire due valori interi: \");\n",
    "    scanf(\"%d %d\", &a, &b);\n",
    "    if (a<b) {\n",
    "        printf(\"%d\\t%d\", a, b);\n",
    "    } else {\n",
    "        printf(\"%d\\t%d\", b, a);\n",
    "    }\n",
    "\n",
    "    return 0;\n",
    "}"
   ]
  },
  {
   "cell_type": "markdown",
   "metadata": {
    "pycharm": {
     "name": "#%% md\n"
    }
   },
   "source": [
    "### Condizione\n",
    "\n",
    "La condizione contenuta nelle strutture condizionali è una qualsiasi espressione che deve restituire un valore uguale (falso) o diverso (vero) da zero.\n",
    "\n",
    "    if (a < b) ...\n",
    "\n",
    "    if (a < b && a != 0) ...\n",
    "\n",
    "    if (100)...\n",
    "\n",
    "    if (0)...\n"
   ]
  },
  {
   "cell_type": "markdown",
   "metadata": {
    "pycharm": {
     "name": "#%% md\n"
    }
   },
   "source": [
    "### Blocco\n",
    "\n",
    "Come già visto, quando l'istruzione che segue il controllo della condizione o la parola chiave else è una sola non è necessario segnalare il blocco:\n",
    "\n",
    "\n",
    "    if (valore >= 0)\n",
    "      numero=valore;\n",
    "    else\n",
    "      numero=0;\n",
    "      \n",
    "Se invece le istruzioni sono più di una, è necessario confinarle in un blocco:"
   ]
  },
  {
   "cell_type": "code",
   "execution_count": null,
   "metadata": {
    "pycharm": {
     "name": "#%%\n"
    }
   },
   "outputs": [],
   "source": [
    "#include <stdio.h>\n",
    "\n",
    "int main() \n",
    "{\n",
    "    int valore, numero;\n",
    "    printf(\"Inserire un valore intero: \");\n",
    "    scanf(\"%d\", &valore);\n",
    "    \n",
    "    if (valore >= 0) {\n",
    "      numero = valore;\n",
    "      printf(\"%d\\n\", numero);\n",
    "    } else {\n",
    "      numero = 0;\n",
    "      printf(\"%d\\n\", numero);\n",
    "    }\n",
    "    \n",
    "    return 0;\n",
    "}"
   ]
  },
  {
   "cell_type": "markdown",
   "metadata": {
    "pycharm": {
     "name": "#%% md\n"
    }
   },
   "source": [
    "### Operatore ternario\n",
    "\n",
    "Il linguaggio C dispone di un operatore ternario che serve a costruire espressioni condizionali (if-else):\n",
    "\n",
    "    (condizione) ? expr-1 : expr-2\n",
    "\n",
    "##### Esempio:\n",
    "    min = (val1<val2) ? val1 : val2;"
   ]
  },
  {
   "cell_type": "code",
   "execution_count": null,
   "metadata": {
    "pycharm": {
     "name": "#%%\n"
    }
   },
   "outputs": [],
   "source": [
    "#include <stdio.h>\n",
    "\n",
    "int main()\n",
    "{\n",
    "    int val1, val2, min;\n",
    "    printf(\"Inserire due valori interi: \");\n",
    "    scanf(\"%d %d\", &val1, &val2);\n",
    "    \n",
    "    min = (val1 < val2) ? val1 : val2;\n",
    "    \n",
    "    printf(\"Valore minore: %d\\n\", min);\n",
    "    \n",
    "    return 0;\n",
    "}"
   ]
  },
  {
   "cell_type": "markdown",
   "metadata": {
    "pycharm": {
     "name": "#%% md\n"
    }
   },
   "source": [
    "## 3.4. Strutture iterative\n",
    "\n",
    "Ci sono tre tipi di strutture iterative in C: il ciclo while, il ciclo for e il ciclo do-while. Le differenze logiche sono minime. Si tratta solitamente di scegliere una o l'altra a dipendenza della comodità che presentano in un determinato contesto.\n",
    "L'istruzione o il blocco di istruzioni contenute all'interno di una struttura iterativa vengono denominate il corpo (body) della struttura.\n",
    "\n",
    "### Il ciclo while\n",
    "\n",
    "Il ciclo while\n",
    "Iniziamo dal ciclo while, già visto e utilizzato nelle modifiche del programma iniziale.\n",
    "\n",
    "while-statement ::= while(expression) statement\n",
    "\n",
    "Il corpo del while viene eseguito valutando prima l'espressione condizionale. Se il risultato è vero (diverso da zero), allora le istruzioni del body vengono eseguite. L'intero processo viene ripetuto fin quando la valutazione dell'espressione fornisce un risultato falso.\n",
    "\n",
    "##### Esempio: Celsius\n",
    "    Celsius = 5/9(F-32)\n"
   ]
  },
  {
   "cell_type": "code",
   "execution_count": null,
   "metadata": {
    "pycharm": {
     "name": "#%%\n"
    }
   },
   "outputs": [],
   "source": [
    "#include <stdio.h>\n",
    "\n",
    "int main()\n",
    "{\n",
    "    int fahr = 0, celsius;\n",
    "\n",
    "    while (fahr <= 300) {\n",
    "        celsius = 5 * (fahr - 32) / 9;\n",
    "        printf(\"%d\\t%d\\n\", fahr, celsius);\n",
    "        fahr = fahr + 20;\n",
    "    }\n",
    "\n",
    "    return 0;\n",
    "}"
   ]
  },
  {
   "cell_type": "markdown",
   "metadata": {
    "pycharm": {
     "name": "#%% md\n"
    }
   },
   "source": [
    "##### Modifiche\n",
    "    \n",
    "    • In colonna da destra\n",
    "\n",
    "          printf(\"%3d %6d\\n\", fahr, celsius);\n",
    "\n",
    "    • Utilizzo dei float\n"
   ]
  },
  {
   "cell_type": "code",
   "execution_count": null,
   "metadata": {
    "pycharm": {
     "name": "#%%\n"
    }
   },
   "outputs": [],
   "source": [
    "#include <stdio.h>\n",
    "\n",
    "int main()\n",
    "{\n",
    "   \n",
    "    float fahr = 0, celsius;\n",
    "\n",
    "    while(fahr<=300){\n",
    "        celsius =(5.0 / 9.0) * (fahr - 32);\n",
    "        printf(\"%3.0f %6.1f\\n\", fahr, celsius);\n",
    "        fahr = fahr + 20;\n",
    "    }\n",
    "\n",
    "    return 0;\n",
    "}"
   ]
  },
  {
   "cell_type": "markdown",
   "metadata": {
    "pycharm": {
     "name": "#%% md\n"
    }
   },
   "source": [
    "### Il ciclo for\n",
    "\n",
    "Il significato logico di questo ciclo è lo stesso di quello del ciclo visto precedentemente. Ciò che cambia, oltre alla sintassi, è la possibilità di inserire come parte della struttura del ciclo, oltre all'espressione condizionale, anche l'inizializzazione di variabili e il loro incremento.\n",
    "\n",
    "    for-statement ::= for([expr-1];[expr-2];[expr-3]) statement\n",
    "\n",
    "Le tre espressioni all'interno della struttura del for sono opzionali (per questo sono mostrate tra parentesi quadre), ciò significa che possono anche essere tralasciate.\n",
    "La condizione si trova nella seconda espressione. Quando la condizione è falsa, il ciclo termina. La prima espressione può contenere inizializzazioni (viene eseguita solo all'inizio), mentre la terza modifiche delle variabili da eseguire ad ogni ciclo.\n",
    "\n",
    "##### Esempio: Adattamento di Celsius"
   ]
  },
  {
   "cell_type": "code",
   "execution_count": null,
   "metadata": {
    "pycharm": {
     "name": "#%%\n"
    }
   },
   "outputs": [],
   "source": [
    "#include <stdio.h>\n",
    "\n",
    "int main()\n",
    "{\n",
    "    float fahr;\n",
    "    for(fahr = 0; fahr <= 300; fahr = fahr + 20) {\n",
    "        printf(\"%3.0f %6.1f\\n\", fahr, (5.0 / 9.0) * (fahr - 32));\n",
    "    }\n",
    "\n",
    "    return 0;\n",
    "}"
   ]
  },
  {
   "cell_type": "markdown",
   "metadata": {
    "pycharm": {
     "name": "#%% md\n"
    }
   },
   "source": [
    "Una modifica applicata a partire da C99, con conseguenze sull’utilizzo del ciclo for, è quella che permette di specificare variabili locali all’interno di qualsiasi blocco, e quindi anche della stessa istruzione for. Questa modifica è utile perché permette di limitare la visibilità della variabile usata nel ciclo, al ciclo stesso, senza possibilità di utilizzarla all’esterno.\n",
    "\n",
    "Ecco l’ulteriore versione del programma precedente, con la dichiarazione della variabile *fahr* all’interno dell’istruzione for:"
   ]
  },
  {
   "cell_type": "code",
   "execution_count": null,
   "metadata": {
    "pycharm": {
     "name": "#%%\n"
    }
   },
   "outputs": [],
   "source": [
    "#include <stdio.h>\n",
    "\n",
    "int main()\n",
    "{\n",
    "    for(float fahr = 0; fahr <= 300; fahr = fahr + 20) {\n",
    "        printf(\"%3.0f %6.1f\\n\", fahr, (5.0 / 9.0) * (fahr - 32));\n",
    "    }\n",
    "\n",
    "    return 0;\n",
    "}\n"
   ]
  },
  {
   "cell_type": "markdown",
   "metadata": {
    "pycharm": {
     "name": "#%% md\n"
    }
   },
   "source": [
    "##### Modifiche\n",
    "\n",
    "   Costanti simboliche\n",
    "\n",
    "\t"
   ]
  },
  {
   "cell_type": "code",
   "execution_count": null,
   "metadata": {
    "pycharm": {
     "name": "#%%\n"
    }
   },
   "outputs": [],
   "source": [
    "#include <stdio.h>\n",
    "\n",
    "#define MIN 0\n",
    "#define MAX 300\n",
    "#define STEP 20\n",
    "\n",
    "int main()\n",
    "{\n",
    "    for(int fahr = MIN; fahr <= MAX; fahr = fahr + STEP) {\n",
    "        printf(\"%3d %6.1f\\n\", fahr, (5.0 / 9.0) * (fahr - 32));\n",
    "    }\n",
    "\n",
    "    return 0;\n",
    "}\n",
    "\n"
   ]
  },
  {
   "cell_type": "markdown",
   "metadata": {
    "pycharm": {
     "name": "#%% md\n"
    }
   },
   "source": [
    "### Il ciclo do-While\n",
    "\n",
    "La più grossa differenza di questo ciclo rispetto agli altri due consiste nel fatto che qui la condizione viene controllata dopo l'esecuzione del body.\n",
    "Questo significa che con il do-while il body viene eseguito almeno una volta, mentre con gli altri due potrebbe anche non essere eseguito.\n",
    "\n",
    "    do-while-statement ::= do statement while(expression);\n",
    "\n",
    "Anche in questo caso l'iterazione avrà luogo fino a quando la valutazione dell'espressione condizionale restituirà falso. Esattamente come nei due casi precedenti.\n",
    "Attenzione a non confondere il do-while con la struttura repeat-until dei linguaggi derivati dal Pascal: in quel caso il ciclo termina quando l'espressione condizionale diventa vera.\n",
    "\n",
    "##### Esempio: da while a do-while\n",
    "Con while"
   ]
  },
  {
   "cell_type": "code",
   "execution_count": null,
   "metadata": {
    "pycharm": {
     "name": "#%%\n"
    }
   },
   "outputs": [],
   "source": [
    "#include <stdio.h>\n",
    "\n",
    "int main()\n",
    "{\n",
    "    char risposta;\n",
    "\n",
    "    printf(\"Fa bel tempo (s/n)?\");\n",
    "    scanf(\"%c\", &risposta);\n",
    "    while(risposta!='n' && risposta!='s'){\n",
    "        printf(\"Fa bel tempo (s/n)?\");\n",
    "        scanf(\" %c\", &risposta);   //nota: spazio che precede %c\n",
    "    }\n",
    "\n",
    "    if (risposta == 'n') {\n",
    "        printf(\"Allora rimango a casa\");\n",
    "    } else {\n",
    "        printf(\"Allora esco\");\n",
    "    }\n",
    "\n",
    "    return 0;\n",
    "}"
   ]
  },
  {
   "cell_type": "markdown",
   "metadata": {
    "pycharm": {
     "name": "#%% md\n"
    }
   },
   "source": [
    "Con do-while"
   ]
  },
  {
   "cell_type": "code",
   "execution_count": null,
   "metadata": {
    "pycharm": {
     "name": "#%%\n"
    }
   },
   "outputs": [],
   "source": [
    "#include <stdio.h>\n",
    "\n",
    "int main()\n",
    "{\n",
    "    char risposta;\n",
    "\n",
    "    do{\n",
    "        printf(\"Fa bel tempo (s/n)?\");\n",
    "        scanf(\" %c\", &risposta);\n",
    "    }while(risposta != 'n' && risposta != 's');\n",
    "    if (risposta == 'n') {\n",
    "        printf(\"Allora rimango a casa\");\n",
    "    } else {\n",
    "        printf(\"Allora esco\");\n",
    "    }\n",
    "\n",
    "    return 0;\n",
    "}\n"
   ]
  },
  {
   "cell_type": "markdown",
   "metadata": {
    "pycharm": {
     "name": "#%% md\n"
    }
   },
   "source": [
    "## 3.5. Strutture condizionali multiple\n",
    "\n",
    "Ci sono due tipi di strutture condizionali multiple, cioè strutture in cui la decisione da prendere comprende più di due varianti, l'estensione del significato della condizionale semplice if-else, o la nuova istruzione switch. "
   ]
  },
  {
   "cell_type": "markdown",
   "metadata": {
    "pycharm": {
     "name": "#%% md\n"
    }
   },
   "source": [
    "### Condizioni multiple con if-else\n",
    "\n",
    "Una decisione con più possibilità può essere espressa come una serie di strutture if-else, dove ogni istruzione if tranne l'ultima contiene un altro if nella sua struttura else.\n",
    "\n",
    "    if (expression-1)\n",
    "    \n",
    "        statement-1;\n",
    "   \n",
    "    else if (expression-2)\n",
    "    \n",
    "        statement-2\n",
    "   \n",
    "    else if (expression-3)\n",
    "    \n",
    "        statement-3\n",
    "\n",
    "    ...\n",
    "    else\n",
    "    \n",
    "        statement-n\n",
    "    \n",
    "##### Esempio"
   ]
  },
  {
   "cell_type": "code",
   "execution_count": null,
   "metadata": {
    "pycharm": {
     "name": "#%%\n"
    }
   },
   "outputs": [],
   "source": [
    "#include <stdlib.h>\n",
    "#include <stdio.h>\n",
    "\n",
    "#define MAX 10\n",
    "\n",
    "int main()\n",
    "{\n",
    "   int tentativo;\n",
    "   int numero = rand() % (MAX + 1);\n",
    "\n",
    "   printf(\"Valore da indovinare tra 0 e %d: \", MAX);\n",
    "   scanf(\"%d\", &tentativo);\n",
    "\n",
    "   if (tentativo < numero) {\n",
    "      printf(\"Troppo piccolo, il numero era %d\\n\", numero);\n",
    "   } else if (tentativo > numero) {\n",
    "      printf(\"Troppo grande, il numero era %d\\n\", numero);\n",
    "   } else {\n",
    "      printf(\"Esatto! Il valore da indovinare era %d\\n\", numero);\n",
    "   }\n",
    "\n",
    "   return 0;\n",
    "}"
   ]
  },
  {
   "cell_type": "markdown",
   "metadata": {
    "pycharm": {
     "name": "#%% md\n"
    }
   },
   "source": [
    "### Problema di ambiguità\n",
    "\n",
    "Quando si hanno più istruzioni if una dentro l'altra, può rivelarsi poco chiaro a quale struttura appartiene un else.\n",
    "Il compilatore risolve questa ambiguità in un modo semplice: la parte else appartiene sempre alla struttura if più interna. Se questo risolve l'ambiguità da un punto di vista formale, non sempre corrisponde alle intenzioni del programmatore, perciò a volte è utile utilizzare le parentesi di blocco ('{ e '}') per rendere più chiaro il programma.\n",
    "\n",
    "##### Esempio\n",
    "\n",
    "    if ((index >=0) && (index < MAX))\n",
    "       if (index < MAX/2)\n",
    "          printf(\"L'indice %d si trova nella prima metà\\n\",index);\n",
    "    else\n",
    "       printf(\"Errore: indice fuori dominio\\n\");\n",
    "       \n",
    "In questo caso il programmatore, lo si vede dall'indentazione, intende usare la parte else per l'istruzione if più esterna, ma il compilatore la usa invece per quella più interna. Questo è il giusto codice per l'interpretazione desiderata:\n",
    "\n",
    "    if ((index >=0) && (index < MAX)){\n",
    "       if (index < MAX/2)\n",
    "          printf(\"L'indice %d si trova nella prima metà\\n\",index);\n",
    "    } else {\n",
    "       printf(\"Errore: indice fuori dominio\\n\");\n",
    "    }"
   ]
  },
  {
   "cell_type": "markdown",
   "metadata": {
    "pycharm": {
     "name": "#%% md\n"
    }
   },
   "source": [
    "### Istruzione switch\n",
    "\n",
    "L'istruzione switch serve anch'essa a controllare una condizione e a determinare più azioni secondo i valori restituiti dall'espressione condizionale. \n",
    "\n",
    "    switch-statement ::= switch(expression) statement\n",
    "\n",
    "L'espressione restituisce un valore di tipo intero che viene poi utilizzato all'interno del body per determinare l'azione da eseguire.\n",
    "Il body, in questo caso, è una sequenza di istruzioni case, con eventualmente un default alla fine.\n",
    "Vediamo un esempio:\n",
    "\n",
    "    switch(scelta){\n",
    "       case 1: printf(\"*\");\n",
    "       case 2: printf(\"**\");\n",
    "       case 3: printf(\"***\");  \n",
    "       case 4: printf(\"****\");\n",
    "    }\n",
    "\n",
    "Quando la variabile scelta corrisponde al valore espresso in uno dei case, il controllo passa al case. Attenzione però che poi tutte le istruzioni che seguono vengono eseguite fino alla fine della struttura switch.\n",
    "Nell'esempio sopra: se scelta avesse valore 2, verrebbero stampato nove asterischi. Questo perché il controllo entra in case 2, ma poi non esce ed esegue le rimanenti istruzioni.\n",
    "Se si desidera terminare l'esecuzione dell'intera struttura switch ad ogni case, allora bisogna usare break.\n",
    "\n",
    "    switch(scelta){\n",
    "       case 1: printf(\"*\");\n",
    "           break;     \n",
    "       case 2: printf(\"**\");\n",
    "           break;          \n",
    "       case 3: printf(\"***\");\n",
    "           break;          \n",
    "       case 4: printf(\"****\");\n",
    "           break;         \n",
    "    }\n",
    "\n",
    "##### Altro esempio\n"
   ]
  },
  {
   "cell_type": "code",
   "execution_count": null,
   "metadata": {
    "pycharm": {
     "name": "#%%\n"
    }
   },
   "outputs": [],
   "source": [
    "#include <stdlib.h>\n",
    "#include <stdio.h>\n",
    "\n",
    "int main()\n",
    "{\n",
    "    char c;\n",
    "\n",
    "    scanf(\"%c\", &c);\n",
    "\n",
    "    switch(c){\n",
    "        case '!':\n",
    "        case '?':\n",
    "            printf(\"Punto interrogativo o esclamativo\");\n",
    "            break;\n",
    "        case '.':\n",
    "            printf(\"Punto\"); \n",
    "            break;\n",
    "        case ',':\n",
    "            printf(\"Virgola\"); \n",
    "            break;\n",
    "        default:\n",
    "            printf(\"Simbolo sconosciuto\"); \n",
    "            break;\n",
    "    }\n",
    "\n",
    "    return 0;\n",
    "}"
   ]
  },
  {
   "cell_type": "markdown",
   "metadata": {
    "pycharm": {
     "name": "#%% md\n"
    }
   },
   "source": [
    "## 3.6. Break, continue e cicli infiniti¶\n",
    "\n",
    "Le istruzioni break e continue vengono utilizzate per alterare il flusso di controllo all'interno dei cicli o, come abbiamo appena visto con break, per influenzare l'esecuzione della struttura switch. \n",
    "\n",
    "### Break\n",
    "\n",
    "Talvolta può essere utile uscire da un ciclo senza controllare, all'inizio o alla fine dell'iterazione, la condizione di fermata.\n",
    "L'istruzione break consente di terminare un ciclo in qualsiasi punto al suo interno.\n",
    "\n",
    "##### Esempio\n",
    "\n",
    "    int main()\n",
    "    {\n",
    "      int tasto;\n",
    "\n",
    "      printf(\"Premi un tasto qualsiasi, o <tab> per terminare\\n\");\n",
    "      while(1) {\n",
    "        tasto = getchar();\n",
    "        if (tasto == '\\t') {\n",
    "           printf(\"Ciclo terminato\\n\");\n",
    "           break;\n",
    "        }\n",
    "        else\n",
    "           putchar('.');\n",
    "      }\n",
    "\n",
    "      return 0;\n",
    "    }"
   ]
  },
  {
   "cell_type": "markdown",
   "metadata": {
    "pycharm": {
     "name": "#%% md\n"
    }
   },
   "source": [
    "Viene usata la funzione getchar(), che vedremo più avanti, che permette di leggere un carattere per volta dallo standard input (stdin). Come mostrato nell'esempio, è possibile definire cicli \"infiniti\", cioè che non terminano con la propria condizione di fermata:\n",
    "\n",
    "    for(;;) {\n",
    "        ...\n",
    "    }\n",
    "\n",
    "    while (1) {\n",
    "        ...\n",
    "    }"
   ]
  },
  {
   "cell_type": "markdown",
   "metadata": {
    "pycharm": {
     "name": "#%% md\n"
    }
   },
   "source": [
    "### Continue\n",
    "\n",
    "L'istruzione continue, invece, non termina l'intero ciclo, ma serve a terminare l'esecuzione corrente del body di un ciclo while, for o do-while. Chiamando continue, il controllo del programma salta direttamente alla fine del body, così che il ciclo può riprendere da lì la sua esecuzione, con la valutazione della condizione, oppure, nel caso di for, con l'espressione di incremento.\n",
    "\n",
    "##### Esempio\n",
    "\n",
    "    ...\n",
    "    while ((ch = getchar()) != EOF) {\n",
    "       if (ch == 'a'){\n",
    "          count++;\n",
    "          continue;\n",
    "       }\n",
    "       ...\n",
    "       ...\n",
    "    }"
   ]
  },
  {
   "cell_type": "markdown",
   "metadata": {
    "pycharm": {
     "name": "#%% md\n"
    }
   },
   "source": [
    "Nell'esempio se la variabile ch contiene il valore 'a', viene incrementato il contatore e in seguito, a causa dell'istruzione continue, il resto del body del ciclo (...) viene ignorato e si torna all'espressione condizionale.\n",
    "Da notare che l'istruzione continue, come pure, in minor misura, la break, introduce nel linguaggio un meccanismo di salto che poco contribuisce alla leggibilità dei programmi. È quindi consigliabile non utilizzarla, ripensando eventualmente la struttura del ciclo, in modo da renderlo più chiaro e leggibile.\n",
    "Per l'esempio appena mostrato una soluzione migliore sarebbe la seguente:\n",
    "\n",
    "    ...\n",
    "    while ((ch = getchar()) != EOF) {\n",
    "       if (ch == 'a') {\n",
    "          count++;\n",
    "       } else {\n",
    "          ...\n",
    "        }\n",
    "    }"
   ]
  }
 ],
 "metadata": {
  "kernelspec": {
   "display_name": "C",
   "language": "c",
   "name": "c"
  },
  "language_info": {
   "file_extension": ".c",
   "mimetype": "text/plain",
   "name": "text/x-csrc"
  }
 },
 "nbformat": 4,
 "nbformat_minor": 2
}